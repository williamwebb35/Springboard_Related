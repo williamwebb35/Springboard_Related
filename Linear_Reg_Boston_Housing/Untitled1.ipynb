{
 "cells": [
  {
   "cell_type": "code",
   "execution_count": null,
   "metadata": {},
   "outputs": [],
   "source": []
  },
  {
   "cell_type": "code",
   "execution_count": 17,
   "metadata": {},
   "outputs": [
    {
     "ename": "SyntaxError",
     "evalue": "EOL while scanning string literal (<ipython-input-17-5897182936be>, line 9)",
     "output_type": "error",
     "traceback": [
      "\u001b[1;36m  File \u001b[1;32m\"<ipython-input-17-5897182936be>\"\u001b[1;36m, line \u001b[1;32m9\u001b[0m\n\u001b[1;33m    b['color'][x]='Blue'   '\u001b[0m\n\u001b[1;37m                            ^\u001b[0m\n\u001b[1;31mSyntaxError\u001b[0m\u001b[1;31m:\u001b[0m EOL while scanning string literal\n"
     ]
    }
   ],
   "source": [
    "# Color the points differently by gender\n",
    "\n",
    "def addcolor(b):\n",
    "    \n",
    "    for x in range(len(b['Gender'])):\n",
    "        if b['Gender'][x]==0: \n",
    "            b['color'][x]='red'\n",
    "        else: \n",
    "            b['color'][x]='Blue'   '\n",
    "    return b\n",
    "\n",
    "addcolor(dflog)\n",
    "\n",
    "plt.scatter(waterUsage['duration'], \n",
    "            waterUsage['water_amount'],\n",
    "            c=waterUsage['color'])\n",
    "\n",
    "\n",
    "\n",
    "\n",
    "plt.scatter(dflog.Weight, dflog.Height, c =dflog.color)\n",
    "plt.xlabel(\"Weight\")\n",
    "plt.ylabel(\"Height\")\n",
    "plt.title(\"Weight vs. Height\")"
   ]
  }
 ],
 "metadata": {
  "kernelspec": {
   "display_name": "Python 3",
   "language": "python",
   "name": "python3"
  },
  "language_info": {
   "codemirror_mode": {
    "name": "ipython",
    "version": 3
   },
   "file_extension": ".py",
   "mimetype": "text/x-python",
   "name": "python",
   "nbconvert_exporter": "python",
   "pygments_lexer": "ipython3",
   "version": "3.7.3"
  }
 },
 "nbformat": 4,
 "nbformat_minor": 2
}
