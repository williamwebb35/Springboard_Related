{
 "cells": [
  {
   "cell_type": "code",
   "execution_count": 2,
   "metadata": {},
   "outputs": [],
   "source": [
    "import requests"
   ]
  },
  {
   "cell_type": "code",
   "execution_count": 3,
   "metadata": {},
   "outputs": [],
   "source": [
    "r = requests.get('https://api.coindesk.com/v1/bpi/currentprice.json')"
   ]
  },
  {
   "cell_type": "code",
   "execution_count": 4,
   "metadata": {},
   "outputs": [
    {
     "name": "stdout",
     "output_type": "stream",
     "text": [
      "{'time': {'updated': 'Jun 11, 2019 16:56:00 UTC', 'updatedISO': '2019-06-11T16:56:00+00:00', 'updateduk': 'Jun 11, 2019 at 17:56 BST'}, 'disclaimer': 'This data was produced from the CoinDesk Bitcoin Price Index (USD). Non-USD currency data converted using hourly conversion rate from openexchangerates.org', 'chartName': 'Bitcoin', 'bpi': {'USD': {'code': 'USD', 'symbol': '&#36;', 'rate': '7,864.1317', 'description': 'United States Dollar', 'rate_float': 7864.1317}, 'GBP': {'code': 'GBP', 'symbol': '&pound;', 'rate': '6,180.8615', 'description': 'British Pound Sterling', 'rate_float': 6180.8615}, 'EUR': {'code': 'EUR', 'symbol': '&euro;', 'rate': '6,949.9971', 'description': 'Euro', 'rate_float': 6949.9971}}}\n"
     ]
    }
   ],
   "source": [
    "print(r.json())"
   ]
  },
  {
   "cell_type": "code",
   "execution_count": 5,
   "metadata": {},
   "outputs": [
    {
     "name": "stdout",
     "output_type": "stream",
     "text": [
      "{'USD': {'code': 'USD', 'symbol': '&#36;', 'rate': '7,864.1317', 'description': 'United States Dollar', 'rate_float': 7864.1317}, 'GBP': {'code': 'GBP', 'symbol': '&pound;', 'rate': '6,180.8615', 'description': 'British Pound Sterling', 'rate_float': 6180.8615}, 'EUR': {'code': 'EUR', 'symbol': '&euro;', 'rate': '6,949.9971', 'description': 'Euro', 'rate_float': 6949.9971}}\n"
     ]
    }
   ],
   "source": [
    "print(r.json()['bpi'])"
   ]
  },
  {
   "cell_type": "code",
   "execution_count": 6,
   "metadata": {},
   "outputs": [
    {
     "name": "stdout",
     "output_type": "stream",
     "text": [
      "{'code': 'USD', 'symbol': '&#36;', 'rate': '7,864.1317', 'description': 'United States Dollar', 'rate_float': 7864.1317}\n"
     ]
    }
   ],
   "source": [
    "print(r.json()['bpi']['USD'])"
   ]
  },
  {
   "cell_type": "code",
   "execution_count": 7,
   "metadata": {},
   "outputs": [
    {
     "name": "stdout",
     "output_type": "stream",
     "text": [
      "7,864.1317\n"
     ]
    }
   ],
   "source": [
    "print(r.json()['bpi']['USD']['rate'])"
   ]
  },
  {
   "cell_type": "code",
   "execution_count": 10,
   "metadata": {},
   "outputs": [],
   "source": [
    "r = requests.get('https://api.coindesk.com/v1/bpi/currentprice.json')"
   ]
  },
  {
   "cell_type": "code",
   "execution_count": 11,
   "metadata": {},
   "outputs": [
    {
     "name": "stdout",
     "output_type": "stream",
     "text": [
      "7,879.7833\n"
     ]
    }
   ],
   "source": [
    "print(r.json()['bpi']['USD']['rate'])"
   ]
  },
  {
   "cell_type": "code",
   "execution_count": null,
   "metadata": {},
   "outputs": [],
   "source": []
  }
 ],
 "metadata": {
  "kernelspec": {
   "display_name": "Python 3",
   "language": "python",
   "name": "python3"
  },
  "language_info": {
   "codemirror_mode": {
    "name": "ipython",
    "version": 3
   },
   "file_extension": ".py",
   "mimetype": "text/x-python",
   "name": "python",
   "nbconvert_exporter": "python",
   "pygments_lexer": "ipython3",
   "version": "3.6.5"
  }
 },
 "nbformat": 4,
 "nbformat_minor": 2
}
