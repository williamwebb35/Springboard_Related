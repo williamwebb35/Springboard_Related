{
 "cells": [
  {
   "cell_type": "markdown",
   "metadata": {},
   "source": [
    "# JSON examples and exercise\n",
    "****\n",
    "+ get familiar with packages for dealing with JSON\n",
    "+ study examples with JSON strings and files \n",
    "+ work on exercise to be completed and submitted \n",
    "****\n",
    "+ reference: http://pandas.pydata.org/pandas-docs/stable/io.html#io-json-reader\n",
    "+ data source: http://jsonstudio.com/resources/\n",
    "****"
   ]
  },
  {
   "cell_type": "markdown",
   "metadata": {},
   "source": [
    "****\n",
    "## JSON exercise\n",
    "\n",
    "Using data in file 'data/world_bank_projects.json' and the techniques demonstrated above,\n",
    "1. Find the 10 countries with most projects\n",
    "2. Find the top 10 major project themes (using column 'mjtheme_namecode')\n",
    "3. In 2. above you will notice that some entries have only the code and the name is missing. Create a dataframe with the missing names filled in."
   ]
  },
  {
   "cell_type": "code",
   "execution_count": 324,
   "metadata": {},
   "outputs": [],
   "source": [
    "import pandas as pd # needed for DataFrames and pandas.read_json to read a JSON file at the top nested level\n",
    "import json #needed for jason.load to load nested data as a string\n",
    "from pandas.io.json import json_normalize #needed for json_normalize which extracts nested data in a string\n",
    "import numpy as np #used below in an aggregation associated with a groupby"
   ]
  },
  {
   "cell_type": "markdown",
   "metadata": {},
   "source": [
    "<font color=black></font>\n",
    "## QUESTION 1: Find the 10 Countries with the Most Projects"
   ]
  },
  {
   "cell_type": "code",
   "execution_count": 325,
   "metadata": {},
   "outputs": [],
   "source": [
    "# load json data using pandas.read_json into a dataframe because the target data are at the top level of the json file (i.e not nested)\n",
    "world_bank_df = pd.read_json('data/world_bank_projects.json')"
   ]
  },
  {
   "cell_type": "code",
   "execution_count": 326,
   "metadata": {},
   "outputs": [],
   "source": [
    "# Examine the DataFrame's components\n",
    "#world_bank_df.info()\n",
    "\n",
    "# View the DataFrame's header\n",
    "#world_bank_df.head()"
   ]
  },
  {
   "cell_type": "code",
   "execution_count": 327,
   "metadata": {},
   "outputs": [
    {
     "data": {
      "text/html": [
       "<div>\n",
       "<style scoped>\n",
       "    .dataframe tbody tr th:only-of-type {\n",
       "        vertical-align: middle;\n",
       "    }\n",
       "\n",
       "    .dataframe tbody tr th {\n",
       "        vertical-align: top;\n",
       "    }\n",
       "\n",
       "    .dataframe thead th {\n",
       "        text-align: right;\n",
       "    }\n",
       "</style>\n",
       "<table border=\"1\" class=\"dataframe\">\n",
       "  <thead>\n",
       "    <tr style=\"text-align: right;\">\n",
       "      <th></th>\n",
       "      <th>countryshortname</th>\n",
       "      <th>project_name</th>\n",
       "    </tr>\n",
       "    <tr>\n",
       "      <th>countrycode</th>\n",
       "      <th></th>\n",
       "      <th></th>\n",
       "    </tr>\n",
       "  </thead>\n",
       "  <tbody>\n",
       "    <tr>\n",
       "      <th>ET</th>\n",
       "      <td>Ethiopia</td>\n",
       "      <td>Ethiopia General Education Quality Improvement...</td>\n",
       "    </tr>\n",
       "    <tr>\n",
       "      <th>TN</th>\n",
       "      <td>Tunisia</td>\n",
       "      <td>TN: DTF Social Protection Reforms Support</td>\n",
       "    </tr>\n",
       "    <tr>\n",
       "      <th>TV</th>\n",
       "      <td>Tuvalu</td>\n",
       "      <td>Tuvalu Aviation Investment Project - Additiona...</td>\n",
       "    </tr>\n",
       "    <tr>\n",
       "      <th>RY</th>\n",
       "      <td>Yemen, Republic of</td>\n",
       "      <td>Gov't and Civil Society Organization Partnership</td>\n",
       "    </tr>\n",
       "    <tr>\n",
       "      <th>LS</th>\n",
       "      <td>Lesotho</td>\n",
       "      <td>Second Private Sector Competitiveness and Econ...</td>\n",
       "    </tr>\n",
       "  </tbody>\n",
       "</table>\n",
       "</div>"
      ],
      "text/plain": [
       "               countryshortname  \\\n",
       "countrycode                       \n",
       "ET                     Ethiopia   \n",
       "TN                      Tunisia   \n",
       "TV                       Tuvalu   \n",
       "RY           Yemen, Republic of   \n",
       "LS                      Lesotho   \n",
       "\n",
       "                                                  project_name  \n",
       "countrycode                                                     \n",
       "ET           Ethiopia General Education Quality Improvement...  \n",
       "TN                   TN: DTF Social Protection Reforms Support  \n",
       "TV           Tuvalu Aviation Investment Project - Additiona...  \n",
       "RY            Gov't and Civil Society Organization Partnership  \n",
       "LS           Second Private Sector Competitiveness and Econ...  "
      ]
     },
     "execution_count": 327,
     "metadata": {},
     "output_type": "execute_result"
    }
   ],
   "source": [
    "# Filter the most relevant columns from the parent DataFrame\n",
    "projects = world_bank_df[['countrycode','countryshortname','project_name']]\n",
    "\n",
    "# Change the index to the countrycode column for increased readability\n",
    "projects = projects.set_index('countrycode')\n",
    "projects.head()"
   ]
  },
  {
   "cell_type": "code",
   "execution_count": 328,
   "metadata": {},
   "outputs": [
    {
     "data": {
      "text/plain": [
       "countrycode  countryshortname  \n",
       "CN           China                 19\n",
       "ID           Indonesia             19\n",
       "VN           Vietnam               17\n",
       "IN           India                 16\n",
       "RY           Yemen, Republic of    13\n",
       "NP           Nepal                 12\n",
       "BD           Bangladesh            12\n",
       "MA           Morocco               12\n",
       "MZ           Mozambique            11\n",
       "3A           Africa                11\n",
       "Name: project_name, dtype: int64"
      ]
     },
     "execution_count": 328,
     "metadata": {},
     "output_type": "execute_result"
    }
   ],
   "source": [
    "# Group the filtered DataFrame to show the number of projects for each country\n",
    "grouped_projects = projects.groupby(['countrycode','countryshortname'])['project_name'].count()\n",
    "\n",
    "# Sort the number of projects per country in descending order and display the ten countries with the most projects\n",
    "grouped_projects = grouped_projects.sort_values(ascending=False).head(10)\n",
    "\n",
    "# Display the grouped and filtered DataFrame\n",
    "grouped_projects"
   ]
  },
  {
   "cell_type": "code",
   "execution_count": 329,
   "metadata": {},
   "outputs": [
    {
     "data": {
      "text/plain": [
       "Text(0,0.5,'Number of Projects')"
      ]
     },
     "execution_count": 329,
     "metadata": {},
     "output_type": "execute_result"
    },
    {
     "data": {
      "image/png": "[encoded data removed]",
      "text/plain": [
       "<Figure size 432x288 with 1 Axes>"
      ]
     },
     "metadata": {},
     "output_type": "display_data"
    }
   ],
   "source": [
    "# Create a bar graph comparing the number of projects in different countries\n",
    "gp_plot = grouped_projects.plot(kind='bar', title = 'Top Ten Countries with the Most Projects', rot = 80)\n",
    "gp_plot.set_xlabel('Country Code')\n",
    "gp_plot.set_ylabel('Number of Projects')"
   ]
  },
  {
   "cell_type": "markdown",
   "metadata": {},
   "source": [
    "<font color=black></font>\n",
    "## QUESTION 2: Find the Top 10 Major Project Themes (Using Column 'mjtheme_namecode')"
   ]
  },
  {
   "cell_type": "code",
   "execution_count": 330,
   "metadata": {},
   "outputs": [],
   "source": [
    "# load json using jason.load from json as a string because the target data are nested\n",
    "json_data = json.load((open('data/world_bank_projects.json')))"
   ]
  },
  {
   "cell_type": "code",
   "execution_count": 331,
   "metadata": {},
   "outputs": [],
   "source": [
    "# Use json_normalize from pandas.io.json.json_normalize to extract the nested target data into a DataFrame\n",
    "tdf = json_normalize(json_data, 'mjtheme_namecode')"
   ]
  },
  {
   "cell_type": "code",
   "execution_count": 332,
   "metadata": {},
   "outputs": [],
   "source": [
    "# Examine the DataFrame's components\n",
    "#tdf.info()\n",
    "\n",
    "# View the DataFrame's header\n",
    "#tdf.head()\n",
    "\n",
    "# Sort the DataFrame and view it\n",
    "#tdf_sorted = tdf.sort_values('code')\n",
    "#tdf_sorted"
   ]
  },
  {
   "cell_type": "code",
   "execution_count": 333,
   "metadata": {},
   "outputs": [
    {
     "data": {
      "text/html": [
       "<div>\n",
       "<style scoped>\n",
       "    .dataframe tbody tr th:only-of-type {\n",
       "        vertical-align: middle;\n",
       "    }\n",
       "\n",
       "    .dataframe tbody tr th {\n",
       "        vertical-align: top;\n",
       "    }\n",
       "\n",
       "    .dataframe thead th {\n",
       "        text-align: right;\n",
       "    }\n",
       "</style>\n",
       "<table border=\"1\" class=\"dataframe\">\n",
       "  <thead>\n",
       "    <tr style=\"text-align: right;\">\n",
       "      <th></th>\n",
       "      <th>code</th>\n",
       "    </tr>\n",
       "    <tr>\n",
       "      <th>name</th>\n",
       "      <th></th>\n",
       "    </tr>\n",
       "  </thead>\n",
       "  <tbody>\n",
       "    <tr>\n",
       "      <th>Environment and natural resources management</th>\n",
       "      <td>223</td>\n",
       "    </tr>\n",
       "    <tr>\n",
       "      <th>Rural development</th>\n",
       "      <td>202</td>\n",
       "    </tr>\n",
       "    <tr>\n",
       "      <th>Human development</th>\n",
       "      <td>197</td>\n",
       "    </tr>\n",
       "    <tr>\n",
       "      <th>Public sector governance</th>\n",
       "      <td>184</td>\n",
       "    </tr>\n",
       "    <tr>\n",
       "      <th>Social protection and risk management</th>\n",
       "      <td>158</td>\n",
       "    </tr>\n",
       "    <tr>\n",
       "      <th>Financial and private sector development</th>\n",
       "      <td>130</td>\n",
       "    </tr>\n",
       "    <tr>\n",
       "      <th></th>\n",
       "      <td>122</td>\n",
       "    </tr>\n",
       "    <tr>\n",
       "      <th>Social dev/gender/inclusion</th>\n",
       "      <td>119</td>\n",
       "    </tr>\n",
       "    <tr>\n",
       "      <th>Trade and integration</th>\n",
       "      <td>72</td>\n",
       "    </tr>\n",
       "    <tr>\n",
       "      <th>Urban development</th>\n",
       "      <td>47</td>\n",
       "    </tr>\n",
       "  </tbody>\n",
       "</table>\n",
       "</div>"
      ],
      "text/plain": [
       "                                              code\n",
       "name                                              \n",
       "Environment and natural resources management   223\n",
       "Rural development                              202\n",
       "Human development                              197\n",
       "Public sector governance                       184\n",
       "Social protection and risk management          158\n",
       "Financial and private sector development       130\n",
       "                                               122\n",
       "Social dev/gender/inclusion                    119\n",
       "Trade and integration                           72\n",
       "Urban development                               47"
      ]
     },
     "execution_count": 333,
     "metadata": {},
     "output_type": "execute_result"
    }
   ],
   "source": [
    "# Group the DataFrame by themes ('name' column)\n",
    "tdf_grouped = tdf.groupby('name').count()\n",
    "\n",
    "# Sort the grouped DataFrame in descending order using the 'code' column and display the ten most common themes\n",
    "tdf_sorted = tdf_grouped.sort_values('code', ascending=False).head(10)\n",
    "tdf_sorted"
   ]
  },
  {
   "cell_type": "code",
   "execution_count": 334,
   "metadata": {},
   "outputs": [
    {
     "data": {
      "text/plain": [
       "Text(0,0.5,'Number of Projects')"
      ]
     },
     "execution_count": 334,
     "metadata": {},
     "output_type": "execute_result"
    },
    {
     "data": {
      "image/png": "[encoded data removed]",
      "text/plain": [
       "<Figure size 432x288 with 1 Axes>"
      ]
     },
     "metadata": {},
     "output_type": "display_data"
    }
   ],
   "source": [
    "# Bar graph of the top ten major project themes\n",
    "tdf_sorted_plot = tdf_sorted.plot(kind='bar', title = 'Top Ten Major Project Themes', rot = 80, legend=False)\n",
    "tdf_sorted_plot.set_xlabel('Project Theme')\n",
    "tdf_sorted_plot.set_ylabel('Number of Projects')"
   ]
  },
  {
   "cell_type": "markdown",
   "metadata": {},
   "source": [
    "<font color=black></font>\n",
    "## QUESTION 3: Create a Dataframe with the Missing Names Filled in"
   ]
  },
  {
   "cell_type": "code",
   "execution_count": 335,
   "metadata": {},
   "outputs": [],
   "source": [
    "# load json as a string because the target data are nested\n",
    "json_data = json.load((open('data/world_bank_projects.json')))"
   ]
  },
  {
   "cell_type": "code",
   "execution_count": 336,
   "metadata": {},
   "outputs": [],
   "source": [
    "# Use json_normalize to extract the nested target data\n",
    "df = json_normalize(json_data, 'mjtheme_namecode')"
   ]
  },
  {
   "cell_type": "code",
   "execution_count": 337,
   "metadata": {},
   "outputs": [],
   "source": [
    "# Examine the DataFrame's components\n",
    "#df.info()\n",
    "\n",
    "# View the DataFrame's header\n",
    "#df.head()\n",
    "\n",
    "# Sort the DataFrame and view it to confirm presence of missing data\n",
    "#df_sorted = df.sort_values('code')\n",
    "#df_sorted"
   ]
  },
  {
   "cell_type": "code",
   "execution_count": 338,
   "metadata": {},
   "outputs": [],
   "source": [
    "# Replacing missing values in the 'name' column using forward fill and save as a new DataFrame\n",
    "df_sorted['name'] = df_sorted.name.replace('',method='ffill')\n",
    "\n",
    "# View the new DataFrame to confirm replacement of missing values\n",
    "#df_sorted"
   ]
  },
  {
   "cell_type": "code",
   "execution_count": 339,
   "metadata": {},
   "outputs": [],
   "source": [
    "# Group by the 'name' column, show the total in each theme as 'total number'\n",
    "themes_sorted_df = df_sorted.groupby('name', as_index=False)['name'].agg({'total_number' : np.size})\n",
    "\n",
    "# View the new groupe and sorted DataFrame\n",
    "#themes_sorted_df"
   ]
  },
  {
   "cell_type": "code",
   "execution_count": 340,
   "metadata": {},
   "outputs": [
    {
     "data": {
      "text/html": [
       "<div>\n",
       "<style scoped>\n",
       "    .dataframe tbody tr th:only-of-type {\n",
       "        vertical-align: middle;\n",
       "    }\n",
       "\n",
       "    .dataframe tbody tr th {\n",
       "        vertical-align: top;\n",
       "    }\n",
       "\n",
       "    .dataframe thead th {\n",
       "        text-align: right;\n",
       "    }\n",
       "</style>\n",
       "<table border=\"1\" class=\"dataframe\">\n",
       "  <thead>\n",
       "    <tr style=\"text-align: right;\">\n",
       "      <th></th>\n",
       "      <th>project_theme</th>\n",
       "      <th>total_number</th>\n",
       "    </tr>\n",
       "  </thead>\n",
       "  <tbody>\n",
       "    <tr>\n",
       "      <th>0</th>\n",
       "      <td>Economic management</td>\n",
       "      <td>38</td>\n",
       "    </tr>\n",
       "    <tr>\n",
       "      <th>1</th>\n",
       "      <td>Environment and natural resources management</td>\n",
       "      <td>250</td>\n",
       "    </tr>\n",
       "    <tr>\n",
       "      <th>2</th>\n",
       "      <td>Financial and private sector development</td>\n",
       "      <td>146</td>\n",
       "    </tr>\n",
       "    <tr>\n",
       "      <th>3</th>\n",
       "      <td>Human development</td>\n",
       "      <td>210</td>\n",
       "    </tr>\n",
       "    <tr>\n",
       "      <th>4</th>\n",
       "      <td>Public sector governance</td>\n",
       "      <td>199</td>\n",
       "    </tr>\n",
       "    <tr>\n",
       "      <th>5</th>\n",
       "      <td>Rule of law</td>\n",
       "      <td>15</td>\n",
       "    </tr>\n",
       "    <tr>\n",
       "      <th>6</th>\n",
       "      <td>Rural development</td>\n",
       "      <td>216</td>\n",
       "    </tr>\n",
       "    <tr>\n",
       "      <th>7</th>\n",
       "      <td>Social dev/gender/inclusion</td>\n",
       "      <td>130</td>\n",
       "    </tr>\n",
       "    <tr>\n",
       "      <th>8</th>\n",
       "      <td>Social protection and risk management</td>\n",
       "      <td>168</td>\n",
       "    </tr>\n",
       "    <tr>\n",
       "      <th>9</th>\n",
       "      <td>Trade and integration</td>\n",
       "      <td>77</td>\n",
       "    </tr>\n",
       "    <tr>\n",
       "      <th>10</th>\n",
       "      <td>Urban development</td>\n",
       "      <td>50</td>\n",
       "    </tr>\n",
       "  </tbody>\n",
       "</table>\n",
       "</div>"
      ],
      "text/plain": [
       "                                   project_theme  total_number\n",
       "0                            Economic management            38\n",
       "1   Environment and natural resources management           250\n",
       "2       Financial and private sector development           146\n",
       "3                              Human development           210\n",
       "4                       Public sector governance           199\n",
       "5                                    Rule of law            15\n",
       "6                              Rural development           216\n",
       "7                    Social dev/gender/inclusion           130\n",
       "8          Social protection and risk management           168\n",
       "9                          Trade and integration            77\n",
       "10                             Urban development            50"
      ]
     },
     "execution_count": 340,
     "metadata": {},
     "output_type": "execute_result"
    }
   ],
   "source": [
    "# Rename the 'name' column to 'project_theme'\n",
    "themes_sorted_df = themes_sorted_df.rename(columns={'name': 'project_theme'})\n",
    "\n",
    "# View the DataFrame to confirm renaming\n",
    "themes_sorted_df"
   ]
  },
  {
   "cell_type": "code",
   "execution_count": 341,
   "metadata": {},
   "outputs": [
    {
     "data": {
      "text/html": [
       "<div>\n",
       "<style scoped>\n",
       "    .dataframe tbody tr th:only-of-type {\n",
       "        vertical-align: middle;\n",
       "    }\n",
       "\n",
       "    .dataframe tbody tr th {\n",
       "        vertical-align: top;\n",
       "    }\n",
       "\n",
       "    .dataframe thead th {\n",
       "        text-align: right;\n",
       "    }\n",
       "</style>\n",
       "<table border=\"1\" class=\"dataframe\">\n",
       "  <thead>\n",
       "    <tr style=\"text-align: right;\">\n",
       "      <th></th>\n",
       "      <th>project_theme</th>\n",
       "      <th>total_number</th>\n",
       "    </tr>\n",
       "  </thead>\n",
       "  <tbody>\n",
       "    <tr>\n",
       "      <th>1</th>\n",
       "      <td>Environment and natural resources management</td>\n",
       "      <td>250</td>\n",
       "    </tr>\n",
       "    <tr>\n",
       "      <th>6</th>\n",
       "      <td>Rural development</td>\n",
       "      <td>216</td>\n",
       "    </tr>\n",
       "    <tr>\n",
       "      <th>3</th>\n",
       "      <td>Human development</td>\n",
       "      <td>210</td>\n",
       "    </tr>\n",
       "    <tr>\n",
       "      <th>4</th>\n",
       "      <td>Public sector governance</td>\n",
       "      <td>199</td>\n",
       "    </tr>\n",
       "    <tr>\n",
       "      <th>8</th>\n",
       "      <td>Social protection and risk management</td>\n",
       "      <td>168</td>\n",
       "    </tr>\n",
       "    <tr>\n",
       "      <th>2</th>\n",
       "      <td>Financial and private sector development</td>\n",
       "      <td>146</td>\n",
       "    </tr>\n",
       "    <tr>\n",
       "      <th>7</th>\n",
       "      <td>Social dev/gender/inclusion</td>\n",
       "      <td>130</td>\n",
       "    </tr>\n",
       "    <tr>\n",
       "      <th>9</th>\n",
       "      <td>Trade and integration</td>\n",
       "      <td>77</td>\n",
       "    </tr>\n",
       "    <tr>\n",
       "      <th>10</th>\n",
       "      <td>Urban development</td>\n",
       "      <td>50</td>\n",
       "    </tr>\n",
       "    <tr>\n",
       "      <th>0</th>\n",
       "      <td>Economic management</td>\n",
       "      <td>38</td>\n",
       "    </tr>\n",
       "    <tr>\n",
       "      <th>5</th>\n",
       "      <td>Rule of law</td>\n",
       "      <td>15</td>\n",
       "    </tr>\n",
       "  </tbody>\n",
       "</table>\n",
       "</div>"
      ],
      "text/plain": [
       "                                   project_theme  total_number\n",
       "1   Environment and natural resources management           250\n",
       "6                              Rural development           216\n",
       "3                              Human development           210\n",
       "4                       Public sector governance           199\n",
       "8          Social protection and risk management           168\n",
       "2       Financial and private sector development           146\n",
       "7                    Social dev/gender/inclusion           130\n",
       "9                          Trade and integration            77\n",
       "10                             Urban development            50\n",
       "0                            Economic management            38\n",
       "5                                    Rule of law            15"
      ]
     },
     "execution_count": 341,
     "metadata": {},
     "output_type": "execute_result"
    }
   ],
   "source": [
    "# Sort the DataFrame by the 'total_number' column in descending order\n",
    "themes_sorted_df = themes_sorted_df.sort_values(by='total_number', ascending=False)\n",
    "\n",
    "# View the DataFrame to confirm sorting\n",
    "themes_sorted_df"
   ]
  },
  {
   "cell_type": "code",
   "execution_count": 342,
   "metadata": {},
   "outputs": [
    {
     "data": {
      "text/plain": [
       "Text(0,0.5,'Number of Projects')"
      ]
     },
     "execution_count": 342,
     "metadata": {},
     "output_type": "execute_result"
    },
    {
     "data": {
      "image/png": "[encoded data removed]",
      "text/plain": [
       "<Figure size 432x288 with 1 Axes>"
      ]
     },
     "metadata": {},
     "output_type": "display_data"
    }
   ],
   "source": [
    "# Bar graph of the top ten major project themes after filling missing values\n",
    "tsdf_plot = themes_sorted_df.plot(kind='bar', x='project_theme',title = 'Top Ten Major Project Themes', rot = 80, legend=False)\n",
    "tsdf_plot.set_xlabel('Project Theme')\n",
    "tsdf_plot.set_ylabel('Number of Projects')"
   ]
  }
 ],
 "metadata": {
  "kernelspec": {
   "display_name": "Python 3",
   "language": "python",
   "name": "python3"
  },
  "language_info": {
   "codemirror_mode": {
    "name": "ipython",
    "version": 3
   },
   "file_extension": ".py",
   "mimetype": "text/x-python",
   "name": "python",
   "nbconvert_exporter": "python",
   "pygments_lexer": "ipython3",
   "version": "3.6.5"
  }
 },
 "nbformat": 4,
 "nbformat_minor": 1
}
